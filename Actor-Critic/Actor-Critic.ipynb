{
 "cells": [
  {
   "cell_type": "code",
   "execution_count": 1,
   "metadata": {},
   "outputs": [],
   "source": [
    "from Environment_one_hot import *\n",
    "from Networks import *\n",
    "\n",
    "import tensorflow as tf\n",
    "from tensorflow import keras \n",
    "from tensorflow.keras.models import Model\n",
    "from tensorflow.keras.layers import Dense, Input\n",
    "\n",
    "import numpy as np\n",
    "from tqdm import tqdm"
   ]
  },
  {
   "cell_type": "code",
   "execution_count": 2,
   "metadata": {
    "scrolled": true
   },
   "outputs": [
    {
     "name": "stdout",
     "output_type": "stream",
     "text": [
      "Location and directions of cells are: \n",
      "{1: [0, 0, 0], 2: [0, 0, 1], 3: [0, 0, 2], 4: [1500.0, 0, 0], 5: [1500.0, 0, 1], 6: [1500.0, 0, 2], 7: [750.0, 1250.0, 0], 8: [750.0, 1250.0, 1], 9: [750.0, 1250.0, 2], 10: [-750.0, 1250.0, 0], 11: [-750.0, 1250.0, 1], 12: [-750.0, 1250.0, 2], 13: [-1500.0, 0, 0], 14: [-1500.0, 0, 1], 15: [-1500.0, 0, 2], 16: [-750.0, -1250.0, 0], 17: [-750.0, -1250.0, 1], 18: [-750.0, -1250.0, 2], 19: [750.0, -1250.0, 0], 20: [750.0, -1250.0, 1], 21: [750.0, -1250.0, 2]} \n",
      " \n",
      "\n",
      "Strongest cells for sector (0, 0)\n",
      "[[5.0, -69.68031402659005], [13.0, -71.07287859388722], [10.0, -77.36490164108055], [16.0, -77.39288922194086], [9.0, -77.7794686317523], [20.0, -79.71838870710408]]\n",
      "\n",
      "\n",
      "Strongest cells for sector (0, 100)\n",
      "[[13.0, -68.54875066828438], [5.0, -72.23390665442798], [2.0, -76.24066816535561], [17.0, -81.04742797484525], [20.0, -81.67563656386488], [10.0, -83.59618041497248]]\n",
      "\n",
      "\n",
      "Strongest cells for sector (50, 0)\n",
      "[[5.0, -64.51934435908518], [13.0, -75.59831577353562], [10.0, -78.25050388063512], [16.0, -81.72931199603656], [20.0, -82.82199460268102], [9.0, -83.49523497110484]]\n",
      "\n",
      "\n",
      "Strongest cells for sector (50, 100)\n",
      "[[5.0, -73.46466473512649], [13.0, -75.66580693436606], [10.0, -80.43391864811726], [16.0, -80.86619269922714], [20.0, -84.31987778322701], [2.0, -92.65103280659358]]\n",
      "\n",
      "\n",
      "[-80.01953836 -83.02305845 -84.45837783 ... -92.30995983 -92.83571661\n",
      " -94.02236389]\n",
      "Maximum RSRP value = -37.91844985355078, Minimum RSRP value = -100\n",
      "New maximum RSRP value = 1.0, New minimum RSRP value = -1.0696604421635831\n"
     ]
    }
   ],
   "source": [
    "LENGTH = 6000\n",
    "WIDTH = 5000\n",
    "DIVISION = 50\n",
    "K = 6\n",
    "NUM_BASE_STATIONS = 7\n",
    "\n",
    "env = Environment(LENGTH, WIDTH, DIVISION, 1, 0, K)\n",
    "eps = 10e-6"
   ]
  },
  {
   "cell_type": "code",
   "execution_count": 3,
   "metadata": {},
   "outputs": [],
   "source": [
    "class Agent:\n",
    "    def __init__(self):\n",
    "        self.loss_fn = tf.keras.losses.huber\n",
    "        self.actor_optimizer = tf.keras.optimizers.Adam(lr = 0.0001)\n",
    "        self.critic_optimizer = tf.keras.optimizers.Adam(lr = 0.0002)\n",
    "        self.actor = ACTOR_NET(K, NUM_BASE_STATIONS)\n",
    "        self.critic = CRITIC_NET(K, NUM_BASE_STATIONS)\n",
    "        self.gamma = 0.3\n",
    "\n",
    "    def learn(self, WRSRP, WHO):\n",
    "        running_reward = 0\n",
    "        running_handovers = 0\n",
    "        max_reward = float('-inf')\n",
    "        for epoch in tqdm(range(100000)):\n",
    "            action_probs_history = []\n",
    "            critic_value_history = []\n",
    "            rewards_history = []\n",
    "            \n",
    "            episode_reward = 0\n",
    "            src,dest = env.give_src_dest()\n",
    "            route = env.compute_route(src, dest)\n",
    "            state = route.popleft()\n",
    "            depth = 3*NUM_BASE_STATIONS\n",
    "            one_hot_cell = make_one_hot(env.sector_cells[src][0][0], depth)\n",
    "            one_hot_direction = make_one_hot(state[-1]+1, 8)\n",
    "            state = state[:-1]\n",
    "            state.extend(one_hot_direction) #According route choosing one of the 8 directions\n",
    "            state.extend(one_hot_cell) #Setting strongest cell as the initial serving cell (one_hot)\n",
    "            done = False\n",
    "            handovers = 0\n",
    "            \n",
    "            with tf.GradientTape(persistent = True) as tape:\n",
    "                while not done:\n",
    "                    norm_state = list(state[:])\n",
    "                    norm_state[0] = norm_state[0]/(LENGTH//2)\n",
    "                    norm_state[1] = norm_state[1]/(WIDTH//2) \n",
    "                    norm_state = np.array(norm_state)[np.newaxis]\n",
    "                    action_probs, critic_value = self.actor.model(norm_state), self.critic.model(norm_state)\n",
    "                    critic_value_history.append(critic_value[0, 0])\n",
    "                    \n",
    "                    action = np.random.choice(K, p=np.squeeze(action_probs))\n",
    "                    action_probs_history.append(tf.math.log(action_probs[0, action]))\n",
    "                    \n",
    "                    next_state, reward, done, change = env.step(state, route, action, dest)\n",
    "                    \n",
    "                    state = next_state\n",
    "                    if change:\n",
    "                        handovers+=1\n",
    "                    reward*=WRSRP\n",
    "                    reward-=change*WHO\n",
    "                    rewards_history.append(reward)\n",
    "                    episode_reward += reward\n",
    "                    \n",
    "                returns = []\n",
    "                discounted_sum = 0\n",
    "                \n",
    "                for r in rewards_history[::-1]:\n",
    "                    discounted_sum = r + self.gamma * discounted_sum\n",
    "                    returns.append(discounted_sum)\n",
    "                    \n",
    "                returns.reverse()\n",
    "                \n",
    "                returns = np.array(returns)\n",
    "                returns = (returns - np.mean(returns)) / (np.std(returns) + eps)\n",
    "                returns = returns.tolist()\n",
    "                \n",
    "                if epoch:\n",
    "                    running_reward = 0.05 * episode_reward + (1 - 0.05) * running_reward\n",
    "                    running_handovers = 0.05*handovers + (1-0.05)*running_handovers\n",
    "                else:\n",
    "                    running_reward = episode_reward\n",
    "                    running_handovers = handovers\n",
    "                    \n",
    "                history = zip(action_probs_history, critic_value_history, returns)\n",
    "                actor_losses = []\n",
    "                critic_losses = []\n",
    "                for log_prob, value, ret in history:\n",
    "                    diff = ret - value\n",
    "                    actor_losses.append(-log_prob * diff)\n",
    "                    critic_losses.append(self.loss_fn(tf.expand_dims(value, 0), tf.expand_dims(ret, 0)))\n",
    "                actor_loss_value = sum(actor_losses)\n",
    "                critic_loss_value = sum(critic_losses)\n",
    "                \n",
    "            grads = tape.gradient(actor_loss_value, self.actor.model.trainable_variables)\n",
    "            self.actor_optimizer.apply_gradients(zip(grads, self.actor.model.trainable_variables))\n",
    "            \n",
    "            grads = tape.gradient(critic_loss_value, self.critic.model.trainable_variables)\n",
    "            self.critic_optimizer.apply_gradients(zip(grads, self.critic.model.trainable_variables))\n",
    "            \n",
    "            action_probs_history.clear()\n",
    "            critic_value_history.clear()\n",
    "            rewards_history.clear()\n",
    "            \n",
    "            if epoch and epoch%1000 == 0:\n",
    "                print(running_reward)\n",
    "                print(running_handovers)\n",
    "                if running_reward>=max_reward:\n",
    "                    max_reward = running_reward\n",
    "                    tf.keras.models.save_model(self.actor.model, f'model_{WRSRP}_{WHO}.h5')"
   ]
  },
  {
   "cell_type": "code",
   "execution_count": 4,
   "metadata": {},
   "outputs": [
    {
     "name": "stdout",
     "output_type": "stream",
     "text": [
      "Model: \"functional_1\"\n",
      "_________________________________________________________________\n",
      "Layer (type)                 Output Shape              Param #   \n",
      "=================================================================\n",
      "input_1 (InputLayer)         [(None, 31)]              0         \n",
      "_________________________________________________________________\n",
      "dense (Dense)                (None, 32)                1024      \n",
      "_________________________________________________________________\n",
      "leaky_re_lu (LeakyReLU)      (None, 32)                0         \n",
      "_________________________________________________________________\n",
      "dense_1 (Dense)              (None, 64)                2112      \n",
      "_________________________________________________________________\n",
      "leaky_re_lu_1 (LeakyReLU)    (None, 64)                0         \n",
      "_________________________________________________________________\n",
      "dense_2 (Dense)              (None, 32)                2080      \n",
      "_________________________________________________________________\n",
      "leaky_re_lu_2 (LeakyReLU)    (None, 32)                0         \n",
      "_________________________________________________________________\n",
      "dense_3 (Dense)              (None, 6)                 198       \n",
      "=================================================================\n",
      "Total params: 5,414\n",
      "Trainable params: 5,414\n",
      "Non-trainable params: 0\n",
      "_________________________________________________________________\n",
      "None\n",
      "Model: \"functional_3\"\n",
      "_________________________________________________________________\n",
      "Layer (type)                 Output Shape              Param #   \n",
      "=================================================================\n",
      "input_2 (InputLayer)         [(None, 31)]              0         \n",
      "_________________________________________________________________\n",
      "dense_4 (Dense)              (None, 32)                1024      \n",
      "_________________________________________________________________\n",
      "leaky_re_lu_3 (LeakyReLU)    (None, 32)                0         \n",
      "_________________________________________________________________\n",
      "dense_5 (Dense)              (None, 64)                2112      \n",
      "_________________________________________________________________\n",
      "leaky_re_lu_4 (LeakyReLU)    (None, 64)                0         \n",
      "_________________________________________________________________\n",
      "dense_6 (Dense)              (None, 32)                2080      \n",
      "_________________________________________________________________\n",
      "leaky_re_lu_5 (LeakyReLU)    (None, 32)                0         \n",
      "_________________________________________________________________\n",
      "dense_7 (Dense)              (None, 1)                 33        \n",
      "=================================================================\n",
      "Total params: 5,249\n",
      "Trainable params: 5,249\n",
      "Non-trainable params: 0\n",
      "_________________________________________________________________\n",
      "None\n"
     ]
    }
   ],
   "source": [
    "agent = Agent()"
   ]
  },
  {
   "cell_type": "code",
   "execution_count": null,
   "metadata": {},
   "outputs": [
    {
     "name": "stderr",
     "output_type": "stream",
     "text": [
      "  1%|▋                                                                        | 1001/100000 [10:51<20:30:27,  1.34it/s]"
     ]
    },
    {
     "name": "stdout",
     "output_type": "stream",
     "text": [
      "2.7678878864705796\n",
      "28.62145893554227\n"
     ]
    },
    {
     "name": "stderr",
     "output_type": "stream",
     "text": [
      "  2%|█▍                                                                       | 2001/100000 [23:03<21:40:48,  1.26it/s]"
     ]
    },
    {
     "name": "stdout",
     "output_type": "stream",
     "text": [
      "2.6764856894616416\n",
      "23.720883905026152\n"
     ]
    },
    {
     "name": "stderr",
     "output_type": "stream",
     "text": [
      "  3%|██▏                                                                      | 3001/100000 [34:24<14:48:52,  1.82it/s]"
     ]
    },
    {
     "name": "stdout",
     "output_type": "stream",
     "text": [
      "3.5710719033475815\n",
      "22.236378325404605\n"
     ]
    },
    {
     "name": "stderr",
     "output_type": "stream",
     "text": [
      "  4%|██▉                                                                      | 4001/100000 [46:18<18:01:13,  1.48it/s]"
     ]
    },
    {
     "name": "stdout",
     "output_type": "stream",
     "text": [
      "4.0672640177068144\n",
      "23.352760161644404\n"
     ]
    },
    {
     "name": "stderr",
     "output_type": "stream",
     "text": [
      "  5%|███▋                                                                     | 5001/100000 [57:38<11:51:57,  2.22it/s]"
     ]
    },
    {
     "name": "stdout",
     "output_type": "stream",
     "text": [
      "2.9000304380007815\n",
      "21.704124706369143\n"
     ]
    },
    {
     "name": "stderr",
     "output_type": "stream",
     "text": [
      "  6%|████▎                                                                  | 6001/100000 [1:07:55<22:13:40,  1.17it/s]"
     ]
    },
    {
     "name": "stdout",
     "output_type": "stream",
     "text": [
      "2.8804016126869216\n",
      "26.404589067938286\n"
     ]
    },
    {
     "name": "stderr",
     "output_type": "stream",
     "text": [
      "  7%|████▉                                                                  | 7001/100000 [1:18:31<12:18:50,  2.10it/s]"
     ]
    },
    {
     "name": "stdout",
     "output_type": "stream",
     "text": [
      "3.469223347787159\n",
      "22.064280759423784\n"
     ]
    },
    {
     "name": "stderr",
     "output_type": "stream",
     "text": [
      "  8%|█████▋                                                                 | 8001/100000 [1:29:12<19:46:50,  1.29it/s]"
     ]
    },
    {
     "name": "stdout",
     "output_type": "stream",
     "text": [
      "5.26184451178248\n",
      "24.18628701909653\n"
     ]
    },
    {
     "name": "stderr",
     "output_type": "stream",
     "text": [
      "  9%|██████▍                                                                | 9001/100000 [1:39:47<16:24:48,  1.54it/s]"
     ]
    },
    {
     "name": "stdout",
     "output_type": "stream",
     "text": [
      "2.1415082035533346\n",
      "25.88657889264978\n"
     ]
    },
    {
     "name": "stderr",
     "output_type": "stream",
     "text": [
      " 10%|███████                                                               | 10001/100000 [1:50:13<13:28:20,  1.86it/s]"
     ]
    },
    {
     "name": "stdout",
     "output_type": "stream",
     "text": [
      "2.324095608937157\n",
      "22.191164355431532\n"
     ]
    },
    {
     "name": "stderr",
     "output_type": "stream",
     "text": [
      " 11%|███████▋                                                              | 11001/100000 [2:00:35<10:11:20,  2.43it/s]"
     ]
    },
    {
     "name": "stdout",
     "output_type": "stream",
     "text": [
      "3.0508484001035923\n",
      "19.403856178637167\n"
     ]
    },
    {
     "name": "stderr",
     "output_type": "stream",
     "text": [
      " 12%|████████▌                                                              | 12002/100000 [2:10:57<7:01:46,  3.48it/s]"
     ]
    },
    {
     "name": "stdout",
     "output_type": "stream",
     "text": [
      "2.6647576624137446\n",
      "22.730359797543528\n"
     ]
    },
    {
     "name": "stderr",
     "output_type": "stream",
     "text": [
      " 13%|█████████                                                             | 13001/100000 [2:21:25<15:04:05,  1.60it/s]"
     ]
    },
    {
     "name": "stdout",
     "output_type": "stream",
     "text": [
      "4.1393581005942695\n",
      "25.916237703459764\n"
     ]
    },
    {
     "name": "stderr",
     "output_type": "stream",
     "text": [
      " 14%|█████████▊                                                            | 14001/100000 [2:32:09<18:29:34,  1.29it/s]"
     ]
    },
    {
     "name": "stdout",
     "output_type": "stream",
     "text": [
      "4.71405460108324\n",
      "24.07767479934738\n"
     ]
    },
    {
     "name": "stderr",
     "output_type": "stream",
     "text": [
      " 15%|██████████▌                                                           | 15001/100000 [2:42:59<15:37:55,  1.51it/s]"
     ]
    },
    {
     "name": "stdout",
     "output_type": "stream",
     "text": [
      "3.370730579081626\n",
      "25.278404282478423\n"
     ]
    },
    {
     "name": "stderr",
     "output_type": "stream",
     "text": [
      " 16%|███████████▏                                                          | 16001/100000 [2:53:23<13:18:02,  1.75it/s]"
     ]
    },
    {
     "name": "stdout",
     "output_type": "stream",
     "text": [
      "4.741149987903912\n",
      "23.458414603790605\n"
     ]
    },
    {
     "name": "stderr",
     "output_type": "stream",
     "text": [
      " 17%|███████████▉                                                          | 17001/100000 [3:03:57<14:06:19,  1.63it/s]"
     ]
    },
    {
     "name": "stdout",
     "output_type": "stream",
     "text": [
      "2.743635951339218\n",
      "25.402632233373378\n"
     ]
    },
    {
     "name": "stderr",
     "output_type": "stream",
     "text": [
      " 18%|████████████▌                                                         | 18001/100000 [3:14:27<12:15:29,  1.86it/s]"
     ]
    },
    {
     "name": "stdout",
     "output_type": "stream",
     "text": [
      "4.194158013240865\n",
      "25.887032340812787\n"
     ]
    },
    {
     "name": "stderr",
     "output_type": "stream",
     "text": [
      " 19%|█████████████▍                                                         | 19002/100000 [3:24:56<9:55:40,  2.27it/s]"
     ]
    },
    {
     "name": "stdout",
     "output_type": "stream",
     "text": [
      "3.904613964940162\n",
      "24.025142678401952\n"
     ]
    },
    {
     "name": "stderr",
     "output_type": "stream",
     "text": [
      " 20%|██████████████                                                        | 20001/100000 [3:35:28<11:46:39,  1.89it/s]"
     ]
    },
    {
     "name": "stdout",
     "output_type": "stream",
     "text": [
      "2.3775945698320538\n",
      "25.13160817673673\n"
     ]
    },
    {
     "name": "stderr",
     "output_type": "stream",
     "text": [
      " 21%|██████████████▉                                                        | 21001/100000 [3:46:27<9:55:50,  2.21it/s]"
     ]
    },
    {
     "name": "stdout",
     "output_type": "stream",
     "text": [
      "4.508965943191136\n",
      "23.469059815958268\n"
     ]
    },
    {
     "name": "stderr",
     "output_type": "stream",
     "text": [
      " 22%|███████████████▍                                                      | 22001/100000 [3:57:47<15:26:34,  1.40it/s]"
     ]
    },
    {
     "name": "stdout",
     "output_type": "stream",
     "text": [
      "2.7913998379277416\n",
      "25.29174205363754\n"
     ]
    },
    {
     "name": "stderr",
     "output_type": "stream",
     "text": [
      " 23%|████████████████                                                      | 23001/100000 [4:09:12<16:11:17,  1.32it/s]"
     ]
    },
    {
     "name": "stdout",
     "output_type": "stream",
     "text": [
      "3.565091407294359\n",
      "25.89772030877489\n"
     ]
    },
    {
     "name": "stderr",
     "output_type": "stream",
     "text": [
      " 24%|█████████████████                                                      | 24002/100000 [4:20:16<8:13:49,  2.56it/s]"
     ]
    },
    {
     "name": "stdout",
     "output_type": "stream",
     "text": [
      "3.9389997774644256\n",
      "20.28984081031139\n"
     ]
    },
    {
     "name": "stderr",
     "output_type": "stream",
     "text": [
      " 25%|█████████████████▌                                                    | 25001/100000 [4:31:15<15:45:21,  1.32it/s]"
     ]
    },
    {
     "name": "stdout",
     "output_type": "stream",
     "text": [
      "2.681709469839523\n",
      "25.653232738187274\n"
     ]
    },
    {
     "name": "stderr",
     "output_type": "stream",
     "text": [
      " 26%|██████████████████▏                                                   | 26001/100000 [4:41:59<12:33:17,  1.64it/s]"
     ]
    },
    {
     "name": "stdout",
     "output_type": "stream",
     "text": [
      "4.410775733358083\n",
      "21.820647815397784\n"
     ]
    },
    {
     "name": "stderr",
     "output_type": "stream",
     "text": [
      " 27%|██████████████████▉                                                   | 27000/100000 [4:53:02<15:40:25,  1.29it/s]"
     ]
    },
    {
     "name": "stdout",
     "output_type": "stream",
     "text": [
      "5.8391814002757565\n",
      "25.435149460417353\n"
     ]
    },
    {
     "name": "stderr",
     "output_type": "stream",
     "text": [
      " 28%|███████████████████▌                                                  | 28001/100000 [5:03:40<14:51:45,  1.35it/s]"
     ]
    },
    {
     "name": "stdout",
     "output_type": "stream",
     "text": [
      "3.9109556107213552\n",
      "23.31773803885557\n"
     ]
    },
    {
     "name": "stderr",
     "output_type": "stream",
     "text": [
      " 29%|████████████████████▎                                                 | 29001/100000 [5:14:41<11:47:58,  1.67it/s]"
     ]
    },
    {
     "name": "stdout",
     "output_type": "stream",
     "text": [
      "2.3888759795066172\n",
      "21.421753715409068\n"
     ]
    },
    {
     "name": "stderr",
     "output_type": "stream",
     "text": [
      " 30%|█████████████████████                                                 | 30001/100000 [5:25:33<12:38:32,  1.54it/s]"
     ]
    },
    {
     "name": "stdout",
     "output_type": "stream",
     "text": [
      "5.459143749691947\n",
      "22.368266206743538\n"
     ]
    },
    {
     "name": "stderr",
     "output_type": "stream",
     "text": [
      " 31%|█████████████████████▋                                                | 31001/100000 [5:36:43<17:56:17,  1.07it/s]"
     ]
    },
    {
     "name": "stdout",
     "output_type": "stream",
     "text": [
      "4.196447584557267\n",
      "27.89557215508347\n"
     ]
    },
    {
     "name": "stderr",
     "output_type": "stream",
     "text": [
      " 32%|██████████████████████▍                                               | 32000/100000 [5:48:01<18:07:38,  1.04it/s]"
     ]
    },
    {
     "name": "stdout",
     "output_type": "stream",
     "text": [
      "3.359363404938451\n",
      "26.547514960790426\n"
     ]
    },
    {
     "name": "stderr",
     "output_type": "stream",
     "text": [
      " 33%|███████████████████████                                               | 33001/100000 [5:58:50<10:55:04,  1.70it/s]"
     ]
    },
    {
     "name": "stdout",
     "output_type": "stream",
     "text": [
      "2.8435949034031287\n",
      "22.673671791850253\n"
     ]
    },
    {
     "name": "stderr",
     "output_type": "stream",
     "text": [
      " 34%|███████████████████████▊                                              | 34001/100000 [6:09:57<11:31:39,  1.59it/s]"
     ]
    },
    {
     "name": "stdout",
     "output_type": "stream",
     "text": [
      "2.7877782493078542\n",
      "25.516372344409998\n"
     ]
    },
    {
     "name": "stderr",
     "output_type": "stream",
     "text": [
      " 35%|████████████████████████▌                                             | 35001/100000 [6:20:47<12:24:02,  1.46it/s]"
     ]
    },
    {
     "name": "stdout",
     "output_type": "stream",
     "text": [
      "2.186353660195376\n",
      "25.478619677366765\n"
     ]
    },
    {
     "name": "stderr",
     "output_type": "stream",
     "text": [
      " 36%|█████████████████████████▏                                            | 36001/100000 [6:31:27<13:29:40,  1.32it/s]"
     ]
    },
    {
     "name": "stdout",
     "output_type": "stream",
     "text": [
      "3.9255786658636516\n",
      "26.13923819047111\n"
     ]
    },
    {
     "name": "stderr",
     "output_type": "stream",
     "text": [
      " 37%|█████████████████████████▉                                            | 37001/100000 [6:42:27<12:25:18,  1.41it/s]"
     ]
    },
    {
     "name": "stdout",
     "output_type": "stream",
     "text": [
      "4.611538186109028\n",
      "27.497380416090053\n"
     ]
    },
    {
     "name": "stderr",
     "output_type": "stream",
     "text": [
      " 38%|██████████████████████████▉                                            | 38001/100000 [6:53:30<9:54:18,  1.74it/s]"
     ]
    },
    {
     "name": "stdout",
     "output_type": "stream",
     "text": [
      "2.6776906481702025\n",
      "24.96668536669774\n"
     ]
    },
    {
     "name": "stderr",
     "output_type": "stream",
     "text": [
      " 39%|███████████████████████████▏                                          | 38829/100000 [7:02:42<11:05:56,  1.53it/s]\n"
     ]
    }
   ],
   "source": [
    "agent.learn(1,1)"
   ]
  },
  {
   "cell_type": "code",
   "execution_count": null,
   "metadata": {},
   "outputs": [],
   "source": []
  }
 ],
 "metadata": {
  "kernelspec": {
   "display_name": "tfgpu",
   "language": "python",
   "name": "tfgpu"
  },
  "language_info": {
   "codemirror_mode": {
    "name": "ipython",
    "version": 3
   },
   "file_extension": ".py",
   "mimetype": "text/x-python",
   "name": "python",
   "nbconvert_exporter": "python",
   "pygments_lexer": "ipython3",
   "version": "3.7.8"
  }
 },
 "nbformat": 4,
 "nbformat_minor": 4
}
